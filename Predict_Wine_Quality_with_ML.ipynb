{
  "nbformat": 4,
  "nbformat_minor": 0,
  "metadata": {
    "colab": {
      "name": "Predict Wine Quality with ML.ipynb",
      "provenance": [],
      "authorship_tag": "ABX9TyNVQBN61enWzPDu3SHiKnAz",
      "include_colab_link": true
    },
    "kernelspec": {
      "name": "python3",
      "display_name": "Python 3"
    },
    "language_info": {
      "name": "python"
    }
  },
  "cells": [
    {
      "cell_type": "markdown",
      "metadata": {
        "id": "view-in-github",
        "colab_type": "text"
      },
      "source": [
        "<a href=\"https://colab.research.google.com/github/sharonccs/PortfolioProjects/blob/main/Predict_Wine_Quality_with_ML.ipynb\" target=\"_parent\"><img src=\"https://colab.research.google.com/assets/colab-badge.svg\" alt=\"Open In Colab\"/></a>"
      ]
    },
    {
      "cell_type": "code",
      "source": [
        "#Step 1: Import libraries and modules.\n",
        "import numpy as np\n",
        "import pandas as pd\n",
        "from sklearn.model_selection import train_test_split\n",
        "from sklearn import preprocessing\n",
        "from sklearn.ensemble import RandomForestRegressor\n",
        "from sklearn.pipeline import make_pipeline\n",
        "from sklearn.model_selection import GridSearchCV\n",
        "from sklearn.metrics import mean_squared_error, r2_score\n",
        "import joblib\n"
      ],
      "metadata": {
        "id": "CEUBg1d6wXX6"
      },
      "execution_count": 7,
      "outputs": []
    },
    {
      "cell_type": "code",
      "source": [
        "#Step 2: Load red wine data.\n",
        "dataset_url = 'https://archive.ics.uci.edu/ml/machine-learning-databases/wine-quality/winequality-white.csv'\n",
        "data = pd.read_csv(dataset_url, sep=';')\n",
        "print (data.head())"
      ],
      "metadata": {
        "colab": {
          "base_uri": "https://localhost:8080/"
        },
        "id": "aPp23wgRxWlM",
        "outputId": "8153b5f5-0672-467d-8cdc-9051785b652d"
      },
      "execution_count": 15,
      "outputs": [
        {
          "output_type": "stream",
          "name": "stdout",
          "text": [
            "   fixed acidity  volatile acidity  citric acid  ...  sulphates  alcohol  quality\n",
            "0            7.0              0.27         0.36  ...       0.45      8.8        6\n",
            "1            6.3              0.30         0.34  ...       0.49      9.5        6\n",
            "2            8.1              0.28         0.40  ...       0.44     10.1        6\n",
            "3            7.2              0.23         0.32  ...       0.40      9.9        6\n",
            "4            7.2              0.23         0.32  ...       0.40      9.9        6\n",
            "\n",
            "[5 rows x 12 columns]\n"
          ]
        }
      ]
    },
    {
      "cell_type": "code",
      "source": [
        "print (data.shape)"
      ],
      "metadata": {
        "colab": {
          "base_uri": "https://localhost:8080/"
        },
        "id": "q36iWNcMxW4W",
        "outputId": "3416b757-3169-4a40-e033-d9e9798c0d6b"
      },
      "execution_count": 18,
      "outputs": [
        {
          "output_type": "stream",
          "name": "stdout",
          "text": [
            "(4898, 12)\n"
          ]
        }
      ]
    },
    {
      "cell_type": "code",
      "source": [
        "print (data.describe())"
      ],
      "metadata": {
        "colab": {
          "base_uri": "https://localhost:8080/"
        },
        "id": "X4C9NPwEypX2",
        "outputId": "26151b6f-7c1e-4411-aecb-9b628e5a15be"
      },
      "execution_count": 20,
      "outputs": [
        {
          "output_type": "stream",
          "name": "stdout",
          "text": [
            "       fixed acidity  volatile acidity  ...      alcohol      quality\n",
            "count    4898.000000       4898.000000  ...  4898.000000  4898.000000\n",
            "mean        6.854788          0.278241  ...    10.514267     5.877909\n",
            "std         0.843868          0.100795  ...     1.230621     0.885639\n",
            "min         3.800000          0.080000  ...     8.000000     3.000000\n",
            "25%         6.300000          0.210000  ...     9.500000     5.000000\n",
            "50%         6.800000          0.260000  ...    10.400000     6.000000\n",
            "75%         7.300000          0.320000  ...    11.400000     6.000000\n",
            "max        14.200000          1.100000  ...    14.200000     9.000000\n",
            "\n",
            "[8 rows x 12 columns]\n"
          ]
        }
      ]
    },
    {
      "cell_type": "code",
      "source": [
        "#Step 3: Split data into training and test sets.\n",
        "y = data.quality\n",
        "X = data.drop('quality', axis=1)"
      ],
      "metadata": {
        "id": "u-IT6eI3yt44"
      },
      "execution_count": 23,
      "outputs": []
    },
    {
      "cell_type": "code",
      "source": [
        "X_train, X_test, y_train, y_test = train_test_split(X, y, \n",
        "                                                    test_size=0.2, \n",
        "                                                    random_state=123, \n",
        "                                                    stratify=y)\n",
        "#Step 4: Declare data preprocessing steps.\n",
        "X_train_scaled = preprocessing.scale(X_train)\n",
        "print (X_train_scaled)"
      ],
      "metadata": {
        "colab": {
          "base_uri": "https://localhost:8080/"
        },
        "id": "4YPTkzvAyxpT",
        "outputId": "0d9a3de5-785b-482e-ac51-d1ce71b1117e"
      },
      "execution_count": 33,
      "outputs": [
        {
          "output_type": "stream",
          "name": "stdout",
          "text": [
            "[[-0.06595853  4.41384815 -1.09716225 ... -0.45516282 -1.8298144\n",
            "   0.47240462]\n",
            " [-0.42101991 -0.47438852  0.21253797 ...  0.47161958 -0.69685184\n",
            "  -1.4010065 ]\n",
            " [-0.18431232 -0.37662379  0.21253797 ...  1.00120952  0.2618088\n",
            "   0.30949931]\n",
            " ...\n",
            " [-1.13114269 -0.18109432 -0.36045587 ...  0.33922209 -0.69685184\n",
            "   0.7167626 ]\n",
            " [-1.24949648 -0.08332959  0.53996302 ... -0.38896408 -0.34824797\n",
            "  -0.17921664]\n",
            " [-0.06595853 -0.57215326  0.13068171 ...  0.33922209 -0.60970087\n",
            "  -1.23810118]]\n"
          ]
        }
      ]
    },
    {
      "cell_type": "code",
      "source": [
        "print (X_train_scaled.mean(axis=0))"
      ],
      "metadata": {
        "colab": {
          "base_uri": "https://localhost:8080/"
        },
        "id": "cQQyRr42zYk6",
        "outputId": "b2d54d6c-8342-467b-8a13-c843eb9a250b"
      },
      "execution_count": 36,
      "outputs": [
        {
          "output_type": "stream",
          "name": "stdout",
          "text": [
            "[-5.04162533e-16 -2.08556444e-16  1.03371455e-16 -7.79819746e-17\n",
            " -7.09091908e-16 -9.06767146e-17 -2.53894801e-17 -2.23391154e-14\n",
            "  8.89538570e-16 -4.82400122e-16  7.76192677e-16]\n"
          ]
        }
      ]
    },
    {
      "cell_type": "code",
      "source": [
        "print (X_train_scaled.std(axis=0))"
      ],
      "metadata": {
        "colab": {
          "base_uri": "https://localhost:8080/"
        },
        "id": "oXYSDJ0Ky4iY",
        "outputId": "5d022e05-6994-4c43-e2f3-da515ae36438"
      },
      "execution_count": 37,
      "outputs": [
        {
          "output_type": "stream",
          "name": "stdout",
          "text": [
            "[1. 1. 1. 1. 1. 1. 1. 1. 1. 1. 1.]\n"
          ]
        }
      ]
    },
    {
      "cell_type": "code",
      "source": [
        "scaler = preprocessing.StandardScaler().fit(X_train)"
      ],
      "metadata": {
        "id": "iKQ4cCNSy16v"
      },
      "execution_count": 39,
      "outputs": []
    },
    {
      "cell_type": "code",
      "source": [
        "X_train_scaled = scaler.transform(X_train)\n",
        "print (X_train_scaled.mean(axis=0))\n",
        "print (X_train_scaled.std(axis=0))"
      ],
      "metadata": {
        "colab": {
          "base_uri": "https://localhost:8080/"
        },
        "id": "S3jBrjs7zuTM",
        "outputId": "9bfff081-6bf4-4e24-a589-987048fd4bfa"
      },
      "execution_count": 46,
      "outputs": [
        {
          "output_type": "stream",
          "name": "stdout",
          "text": [
            "[-5.04162533e-16 -2.08556444e-16  1.03371455e-16 -7.79819746e-17\n",
            " -7.09091908e-16 -9.06767146e-17 -2.53894801e-17 -2.23391154e-14\n",
            "  8.89538570e-16 -4.82400122e-16  7.76192677e-16]\n",
            "[1. 1. 1. 1. 1. 1. 1. 1. 1. 1. 1.]\n"
          ]
        }
      ]
    },
    {
      "cell_type": "code",
      "source": [
        "X_test_scaled = scaler.transform(X_test)\n",
        "print (X_test_scaled.mean(axis=0))\n",
        "print (X_test_scaled.std(axis=0))"
      ],
      "metadata": {
        "colab": {
          "base_uri": "https://localhost:8080/"
        },
        "id": "XNSKThC3zx1j",
        "outputId": "c8053af2-0b66-4d9c-9a52-e380bded7c26"
      },
      "execution_count": 47,
      "outputs": [
        {
          "output_type": "stream",
          "name": "stdout",
          "text": [
            "[-0.00557394 -0.01379692  0.00639383 -0.02115795  0.01000181  0.05080134\n",
            "  0.04727659 -0.00491557 -0.01622463 -0.00489094 -0.02344258]\n",
            "[0.99321244 0.92419246 0.95166836 0.95971113 1.03454363 0.97035169\n",
            " 0.96328528 0.9562574  0.99740768 0.97227308 1.01108118]\n"
          ]
        }
      ]
    },
    {
      "cell_type": "code",
      "source": [
        "pipeline = make_pipeline(preprocessing.StandardScaler(), \n",
        "                         RandomForestRegressor(n_estimators=100))"
      ],
      "metadata": {
        "id": "S58jedqez0VI"
      },
      "execution_count": 49,
      "outputs": []
    },
    {
      "cell_type": "code",
      "source": [
        "print (pipeline.get_params())"
      ],
      "metadata": {
        "colab": {
          "base_uri": "https://localhost:8080/"
        },
        "id": "sJa7da8w0bjW",
        "outputId": "fe2dbd62-a4b8-4e3d-eeb8-6bd7df33c3a6"
      },
      "execution_count": 52,
      "outputs": [
        {
          "output_type": "stream",
          "name": "stdout",
          "text": [
            "{'memory': None, 'steps': [('standardscaler', StandardScaler()), ('randomforestregressor', RandomForestRegressor())], 'verbose': False, 'standardscaler': StandardScaler(), 'randomforestregressor': RandomForestRegressor(), 'standardscaler__copy': True, 'standardscaler__with_mean': True, 'standardscaler__with_std': True, 'randomforestregressor__bootstrap': True, 'randomforestregressor__ccp_alpha': 0.0, 'randomforestregressor__criterion': 'squared_error', 'randomforestregressor__max_depth': None, 'randomforestregressor__max_features': 'auto', 'randomforestregressor__max_leaf_nodes': None, 'randomforestregressor__max_samples': None, 'randomforestregressor__min_impurity_decrease': 0.0, 'randomforestregressor__min_samples_leaf': 1, 'randomforestregressor__min_samples_split': 2, 'randomforestregressor__min_weight_fraction_leaf': 0.0, 'randomforestregressor__n_estimators': 100, 'randomforestregressor__n_jobs': None, 'randomforestregressor__oob_score': False, 'randomforestregressor__random_state': None, 'randomforestregressor__verbose': 0, 'randomforestregressor__warm_start': False}\n"
          ]
        }
      ]
    },
    {
      "cell_type": "code",
      "source": [
        "#Step 5: Declare hyperparameters to tune.\n",
        "hyperparameters = { 'randomforestregressor__max_features' : ['auto', 'sqrt', 'log2'],\n",
        "                  'randomforestregressor__max_depth': [None, 5, 3, 1]}"
      ],
      "metadata": {
        "id": "iJTBDk3j0gtg"
      },
      "execution_count": 54,
      "outputs": []
    },
    {
      "cell_type": "code",
      "source": [
        "#Step 6: Tune model using a cross-validation pipeline.\n",
        "clf = GridSearchCV(pipeline, hyperparameters, cv=10)\n",
        "clf.fit(X_train, y_train)"
      ],
      "metadata": {
        "colab": {
          "base_uri": "https://localhost:8080/"
        },
        "id": "lqPhy4da0obe",
        "outputId": "a64fe81d-914c-4b3b-f185-552a0587e39e"
      },
      "execution_count": 61,
      "outputs": [
        {
          "output_type": "execute_result",
          "data": {
            "text/plain": [
              "GridSearchCV(cv=10,\n",
              "             estimator=Pipeline(steps=[('standardscaler', StandardScaler()),\n",
              "                                       ('randomforestregressor',\n",
              "                                        RandomForestRegressor())]),\n",
              "             param_grid={'randomforestregressor__max_depth': [None, 5, 3, 1],\n",
              "                         'randomforestregressor__max_features': ['auto', 'sqrt',\n",
              "                                                                 'log2']})"
            ]
          },
          "metadata": {},
          "execution_count": 61
        }
      ]
    },
    {
      "cell_type": "code",
      "source": [
        "#Step 7: Refit on the entire training set.\n",
        "print (clf.refit)"
      ],
      "metadata": {
        "colab": {
          "base_uri": "https://localhost:8080/"
        },
        "id": "scgx71LC0u31",
        "outputId": "c715b317-725e-4941-c536-f64a25493a04"
      },
      "execution_count": 59,
      "outputs": [
        {
          "output_type": "stream",
          "name": "stdout",
          "text": [
            "True\n"
          ]
        }
      ]
    },
    {
      "cell_type": "code",
      "source": [
        "Step 8: Evaluate model pipeline on test data.\n",
        "y_pred = clf.predict(X_test)"
      ],
      "metadata": {
        "id": "O7tdC55T1N-p"
      },
      "execution_count": 62,
      "outputs": []
    },
    {
      "cell_type": "code",
      "source": [
        "print (r2_score(y_test, y_pred))\n",
        "print (mean_squared_error(y_test, y_pred))"
      ],
      "metadata": {
        "colab": {
          "base_uri": "https://localhost:8080/"
        },
        "id": "rG62Sf_q1fhx",
        "outputId": "ff1b2c25-ec4d-4dc2-eb53-2f534297db7d"
      },
      "execution_count": 65,
      "outputs": [
        {
          "output_type": "stream",
          "name": "stdout",
          "text": [
            "0.5854613778650255\n",
            "0.3254154081632653\n"
          ]
        }
      ]
    },
    {
      "cell_type": "code",
      "source": [
        "Step 9: Save model for future use.\n",
        "joblib.dump(clf, 'rf_regressor.pkl')"
      ],
      "metadata": {
        "colab": {
          "base_uri": "https://localhost:8080/"
        },
        "id": "1SS9klgr1rwD",
        "outputId": "9877bb6f-c24e-4f2b-a1f2-d9889be6cf4c"
      },
      "execution_count": 67,
      "outputs": [
        {
          "output_type": "execute_result",
          "data": {
            "text/plain": [
              "['rf_regressor.pkl']"
            ]
          },
          "metadata": {},
          "execution_count": 67
        }
      ]
    },
    {
      "cell_type": "code",
      "source": [
        "clf2 = joblib.load('rf_regressor.pkl')\n",
        "clf2.predict(X_test)"
      ],
      "metadata": {
        "colab": {
          "base_uri": "https://localhost:8080/"
        },
        "id": "EFSFG2ew1twu",
        "outputId": "27f69245-0cb7-440d-afa5-13fdc17aef89"
      },
      "execution_count": 69,
      "outputs": [
        {
          "output_type": "execute_result",
          "data": {
            "text/plain": [
              "array([6.01, 5.63, 6.02, 5.77, 6.02, 5.41, 5.42, 5.88, 5.88, 6.72, 6.59,\n",
              "       6.18, 6.66, 6.47, 5.07, 5.99, 5.23, 6.73, 5.29, 5.06, 5.2 , 5.82,\n",
              "       7.02, 6.79, 5.69, 5.35, 5.93, 6.13, 5.99, 6.14, 5.86, 5.95, 6.77,\n",
              "       5.93, 6.31, 5.53, 5.9 , 5.28, 6.  , 6.02, 5.04, 5.35, 6.82, 6.07,\n",
              "       6.36, 5.43, 4.9 , 6.  , 6.25, 6.37, 6.86, 6.05, 5.95, 5.19, 5.48,\n",
              "       5.88, 4.98, 5.6 , 6.87, 5.22, 5.45, 4.73, 6.59, 5.55, 6.28, 6.27,\n",
              "       5.89, 5.73, 6.05, 5.97, 5.2 , 6.28, 5.85, 6.1 , 5.29, 5.2 , 5.91,\n",
              "       5.  , 5.05, 4.48, 5.5 , 5.15, 5.2 , 4.99, 6.  , 5.77, 6.37, 5.67,\n",
              "       6.15, 6.84, 5.26, 5.81, 6.85, 5.89, 8.  , 7.45, 5.66, 6.6 , 5.14,\n",
              "       5.82, 5.11, 5.12, 5.08, 5.44, 5.8 , 5.05, 5.74, 6.14, 5.97, 6.63,\n",
              "       6.75, 6.25, 5.32, 6.78, 7.  , 5.65, 5.15, 6.21, 5.28, 5.6 , 6.12,\n",
              "       5.44, 5.07, 5.21, 5.84, 5.66, 5.48, 5.3 , 5.19, 5.37, 6.45, 6.32,\n",
              "       5.66, 5.26, 6.66, 6.95, 6.57, 5.79, 6.71, 5.34, 5.83, 5.96, 5.7 ,\n",
              "       6.79, 6.04, 5.94, 6.15, 5.13, 6.14, 5.87, 5.12, 5.12, 6.32, 7.3 ,\n",
              "       6.68, 6.36, 6.5 , 5.88, 6.45, 6.64, 5.14, 5.86, 6.97, 5.01, 6.24,\n",
              "       6.01, 6.11, 6.15, 5.06, 5.87, 5.62, 5.19, 5.51, 6.63, 6.16, 4.82,\n",
              "       6.64, 6.22, 5.08, 5.45, 4.95, 5.73, 5.37, 6.44, 5.41, 5.29, 6.12,\n",
              "       5.42, 5.18, 5.76, 4.92, 5.57, 6.76, 5.86, 5.92, 6.23, 5.97, 6.54,\n",
              "       4.77, 5.89, 6.77, 6.5 , 6.08, 5.74, 5.74, 5.67, 5.73, 6.55, 6.29,\n",
              "       6.39, 5.2 , 5.84, 5.54, 5.93, 5.06, 6.49, 6.67, 5.76, 6.94, 6.04,\n",
              "       5.83, 5.94, 6.11, 6.36, 5.74, 5.99, 6.79, 5.23, 5.32, 5.29, 6.01,\n",
              "       6.29, 5.17, 4.72, 6.14, 5.12, 6.64, 5.96, 5.47, 6.39, 4.81, 5.29,\n",
              "       6.05, 4.56, 5.83, 5.97, 5.13, 6.51, 5.6 , 5.51, 5.79, 5.28, 8.  ,\n",
              "       6.99, 5.82, 5.32, 6.85, 6.81, 5.04, 5.54, 5.05, 6.1 , 6.91, 6.37,\n",
              "       5.14, 5.06, 6.25, 6.7 , 4.83, 5.36, 7.26, 6.76, 5.7 , 4.99, 5.13,\n",
              "       5.34, 5.16, 6.64, 6.04, 6.36, 5.91, 6.32, 6.71, 7.  , 5.29, 6.64,\n",
              "       5.56, 5.06, 5.41, 5.16, 5.66, 6.16, 6.89, 5.87, 6.96, 5.54, 5.37,\n",
              "       5.13, 4.9 , 6.27, 6.9 , 5.32, 6.34, 6.63, 6.91, 6.84, 7.01, 5.99,\n",
              "       5.35, 6.66, 5.43, 5.28, 6.36, 6.24, 6.61, 5.11, 6.23, 5.28, 6.39,\n",
              "       5.84, 5.38, 5.66, 5.29, 5.61, 6.93, 5.64, 5.84, 6.25, 6.23, 5.24,\n",
              "       5.38, 6.3 , 6.22, 6.69, 5.35, 5.98, 6.14, 5.81, 5.16, 5.66, 6.81,\n",
              "       5.21, 5.24, 6.6 , 5.43, 6.05, 5.68, 5.94, 7.02, 6.08, 6.64, 6.34,\n",
              "       6.58, 6.79, 6.69, 6.64, 6.09, 5.91, 6.46, 6.39, 4.9 , 5.28, 6.11,\n",
              "       5.88, 6.24, 6.19, 5.82, 6.46, 6.36, 5.43, 5.55, 5.73, 7.09, 6.76,\n",
              "       5.25, 5.  , 5.27, 5.95, 6.09, 6.33, 6.43, 5.27, 6.61, 5.76, 6.21,\n",
              "       5.19, 5.6 , 5.41, 6.01, 5.38, 6.15, 6.48, 6.5 , 5.87, 5.3 , 5.92,\n",
              "       7.74, 5.69, 5.92, 6.31, 5.23, 5.99, 5.73, 6.36, 6.39, 5.47, 5.93,\n",
              "       5.13, 6.24, 5.67, 5.88, 6.3 , 6.81, 6.63, 5.94, 5.78, 5.32, 6.87,\n",
              "       5.95, 6.02, 6.79, 4.93, 5.13, 5.16, 4.57, 6.62, 6.86, 5.72, 6.04,\n",
              "       5.97, 5.08, 7.  , 5.88, 6.62, 6.49, 5.59, 5.16, 6.4 , 7.02, 6.22,\n",
              "       6.62, 6.46, 5.84, 5.71, 6.19, 5.07, 6.37, 5.78, 5.42, 6.94, 6.51,\n",
              "       6.82, 6.47, 6.39, 6.15, 5.53, 5.05, 5.8 , 5.24, 5.95, 5.04, 5.87,\n",
              "       5.49, 5.36, 5.56, 6.11, 5.93, 6.16, 5.98, 5.11, 6.58, 5.97, 6.13,\n",
              "       5.42, 6.51, 6.51, 6.19, 5.21, 5.23, 5.74, 6.51, 5.23, 6.08, 5.61,\n",
              "       5.88, 5.29, 5.98, 5.95, 5.32, 6.01, 6.83, 5.85, 5.52, 6.32, 6.2 ,\n",
              "       5.28, 5.04, 5.4 , 5.25, 5.07, 5.72, 7.01, 5.71, 5.06, 5.31, 6.16,\n",
              "       5.18, 6.39, 6.79, 5.9 , 5.34, 6.09, 7.37, 6.28, 7.69, 7.31, 6.13,\n",
              "       6.08, 6.14, 5.97, 6.24, 5.04, 4.78, 5.52, 4.82, 7.98, 5.64, 5.32,\n",
              "       5.43, 5.2 , 5.99, 5.17, 5.16, 5.21, 5.86, 5.92, 6.16, 5.86, 5.27,\n",
              "       6.65, 6.04, 5.18, 5.85, 5.95, 6.11, 6.64, 6.54, 6.03, 5.8 , 5.45,\n",
              "       4.88, 6.09, 6.11, 6.65, 5.1 , 5.77, 5.13, 5.51, 5.51, 6.16, 6.54,\n",
              "       6.09, 5.26, 5.82, 5.43, 6.77, 6.73, 6.29, 5.87, 6.04, 5.22, 5.09,\n",
              "       5.28, 5.4 , 6.93, 6.86, 5.8 , 5.77, 6.65, 5.95, 5.18, 5.28, 6.93,\n",
              "       6.75, 6.27, 6.78, 5.08, 6.42, 6.14, 6.34, 5.37, 5.75, 5.02, 5.99,\n",
              "       4.91, 6.35, 6.3 , 5.43, 5.96, 6.83, 6.54, 5.74, 5.98, 6.07, 5.99,\n",
              "       6.26, 5.65, 6.04, 6.4 , 5.64, 6.13, 6.34, 5.79, 6.37, 6.02, 4.87,\n",
              "       5.76, 6.54, 6.96, 5.68, 5.76, 5.96, 4.98, 4.97, 5.94, 5.07, 5.57,\n",
              "       5.21, 5.07, 6.75, 5.96, 5.2 , 5.69, 5.09, 7.34, 6.  , 5.83, 5.23,\n",
              "       7.  , 6.36, 7.  , 6.14, 5.82, 5.95, 5.46, 6.7 , 5.71, 5.22, 6.49,\n",
              "       5.45, 5.03, 5.77, 5.07, 5.36, 6.28, 5.48, 6.99, 5.12, 5.87, 6.27,\n",
              "       5.49, 5.99, 6.05, 6.62, 5.04, 6.26, 5.25, 5.89, 5.61, 5.52, 5.77,\n",
              "       5.59, 6.29, 6.05, 5.87, 5.98, 7.01, 5.38, 5.7 , 5.93, 6.45, 6.94,\n",
              "       5.75, 6.3 , 5.26, 5.01, 6.  , 6.05, 5.98, 5.61, 6.85, 6.75, 5.59,\n",
              "       6.08, 6.05, 5.65, 5.87, 5.62, 5.15, 6.89, 6.17, 5.58, 6.43, 6.05,\n",
              "       5.91, 5.84, 5.24, 5.94, 5.81, 5.87, 6.03, 6.98, 5.07, 6.15, 5.49,\n",
              "       6.02, 5.16, 6.51, 7.1 , 6.51, 5.7 , 5.95, 6.34, 5.09, 6.54, 4.6 ,\n",
              "       6.37, 5.88, 6.04, 6.1 , 5.97, 6.6 , 5.22, 5.98, 6.07, 5.88, 6.34,\n",
              "       5.42, 6.09, 4.96, 6.07, 5.27, 6.22, 6.43, 5.93, 4.97, 6.82, 5.18,\n",
              "       6.46, 5.97, 5.52, 5.88, 5.97, 6.91, 6.58, 6.12, 5.35, 6.61, 4.99,\n",
              "       5.75, 6.97, 6.39, 5.12, 5.17, 5.89, 5.93, 7.  , 5.64, 6.94, 5.87,\n",
              "       5.72, 5.79, 5.04, 6.75, 5.  , 6.34, 6.09, 5.83, 6.89, 6.7 , 5.62,\n",
              "       5.68, 5.91, 5.09, 5.68, 5.39, 4.56, 5.97, 5.23, 6.01, 5.22, 6.34,\n",
              "       6.  , 6.42, 5.07, 6.41, 6.71, 6.5 , 6.29, 5.98, 6.71, 5.62, 5.58,\n",
              "       6.03, 6.99, 5.51, 6.03, 5.36, 5.36, 5.49, 6.7 , 5.67, 6.11, 5.12,\n",
              "       6.15, 6.62, 5.2 , 7.01, 5.33, 6.16, 5.4 , 5.89, 5.  , 5.13, 7.01,\n",
              "       5.13, 5.63, 5.57, 5.12, 5.26, 5.93, 5.09, 6.65, 5.57, 5.95, 5.35,\n",
              "       5.75, 6.03, 5.77, 5.78, 6.83, 5.15, 5.07, 5.97, 5.18, 5.25, 5.74,\n",
              "       6.7 , 6.46, 5.07, 5.89, 5.37, 6.84, 6.07, 6.59, 5.16, 6.09, 6.45,\n",
              "       5.85, 5.76, 6.17, 5.13, 5.4 , 6.23, 5.64, 5.66, 6.06, 7.03, 5.47,\n",
              "       5.7 , 5.87, 6.14, 6.53, 5.78, 5.23, 5.54, 6.85, 6.  , 5.88, 5.1 ,\n",
              "       5.47, 5.19, 5.12, 6.58, 5.82, 5.86, 5.8 , 6.07, 5.17, 5.93, 5.8 ,\n",
              "       6.1 , 5.87, 6.26, 6.13, 5.24, 5.65, 5.65, 5.14, 5.77, 5.28, 5.2 ,\n",
              "       5.54, 5.23, 5.14, 6.23, 5.05, 6.55, 4.71, 5.73, 5.37, 7.5 , 6.81,\n",
              "       6.11, 5.13, 5.69, 6.02, 6.84, 6.52, 5.18, 5.3 , 5.09, 5.65, 5.05,\n",
              "       5.87, 5.99, 5.93, 5.99, 5.51, 5.48, 5.79, 5.03, 4.45, 6.34, 5.13,\n",
              "       6.4 , 6.  , 7.52, 6.19, 6.37, 5.19, 6.09, 5.79, 5.29, 6.01, 6.8 ,\n",
              "       5.12, 5.22, 5.96, 6.89, 5.42, 5.22, 5.32, 5.04, 5.56, 5.22, 6.07,\n",
              "       5.1 , 5.94, 5.89, 6.08, 5.39, 5.12, 6.09, 6.11, 6.3 , 7.  , 6.08,\n",
              "       5.34, 5.99, 6.16, 5.43, 5.95, 5.99, 6.71, 5.91, 6.29, 5.34, 5.37,\n",
              "       5.64])"
            ]
          },
          "metadata": {},
          "execution_count": 69
        }
      ]
    }
  ]
}