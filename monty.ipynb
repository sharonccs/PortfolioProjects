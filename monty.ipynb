{
 "cells": [
  {
   "cell_type": "markdown",
   "metadata": {
    "colab_type": "text",
    "id": "y8F-5tMKTQjL"
   },
   "source": [
    "## Assignment 2"
   ]
  },
  {
   "cell_type": "markdown",
   "metadata": {
    "colab_type": "text",
    "id": "07Y_ONdkTQjR"
   },
   "source": [
    "This assignmemt is based on content discussed in module 2 and will work on a solution for the famous Monty Hall game.  Retrieved from https://en.wikipedia.org/wiki/Monty_Hall_problem\n"
   ]
  },
  {
   "cell_type": "markdown",
   "metadata": {
    "colab_type": "text",
    "id": "7hNSzgdzTQjU"
   },
   "source": [
    "## Learning outcomes"
   ]
  },
  {
   "cell_type": "markdown",
   "metadata": {
    "colab_type": "text",
    "id": "2QtRX9sRTQjX"
   },
   "source": [
    "- Program a simple simulation to solve a concrete statistical problem\n",
    "- Develop insight into the Bayesian probabilistic viewpoint\n",
    "- Recognize that statistical intuition can sometimes be wrong\n"
   ]
  },
  {
   "cell_type": "markdown",
   "metadata": {
    "colab_type": "text",
    "id": "lfLffNUWTQja"
   },
   "source": [
    "**Question**\n",
    "\n",
    "Given below is the description of the problem.  \n",
    "\n",
    "Suppose you're on a game show and you're given the choice of three doors. \n",
    "\n",
    "Behind one door is a car; behind the others, goats. The car and the goats were placed randomly behind the doors before the show.\n",
    "\n",
    "The rules are:\n",
    "\n",
    "After you have chosen a door, the door remains closed for the time being. \n",
    "The game show host, Monty Hall, who knows what is behind the doors, now has to open one of the two remaining doors, and the door he opens must have a goat behind it. If both remaining doors have goats behind them, he chooses one randomly. \n",
    "\n",
    "After Monty opens a door with a goat, he will ask you to decide whether you want to stay with your first choice or to switch to the last remaining door. \n",
    "Imagine that you chose Door 1 and the host opens Door 3, which has a goat. \n",
    "He then asks you \"Do you want to switch to Door Number 2?\" Is it to your advantage to change your choice? \n",
    "\n",
    "**NOTES:**\n",
    "1. The player may initially choose any of the three doors (not just Door 1).\n",
    "2. The host opens a different door revealing a goat (not necessarily Door 3).\n",
    "3. The host gives the player a second choice between the two remaining unopened doors. \n"
   ]
  },
  {
   "attachments": {
    "download.jpeg": {
     "image/jpeg": "[encoded data removed]"
    }
   },
   "cell_type": "markdown",
   "metadata": {
    "colab_type": "text",
    "id": "L041acdjTQjb"
   },
   "source": [
    "![download.jpeg](attachment:download.jpeg)\n",
    "\n",
    "(Source: https://en.wikipedia.org/wiki/Monty_Hall_problem#)"
   ]
  },
  {
   "cell_type": "markdown",
   "metadata": {
    "colab_type": "text",
    "id": "dAuGtwxzTQje"
   },
   "source": [
    "- Write Python code to solve the Monty Hall problem. Simulate at least a thousand games using three doors for each strategy and show the results in such a way as to make it easy to compare the effects of each strategy.\n"
   ]
  },
  {
   "cell_type": "code",
   "execution_count": 1,
   "metadata": {
    "colab": {},
    "colab_type": "code",
    "id": "GlZk3mKETQjg"
   },
   "outputs": [],
   "source": [
    "#your work here"
   ]
  },
  {
   "cell_type": "code",
   "execution_count": 2,
   "metadata": {},
   "outputs": [],
   "source": [
    "import numpy as np\n",
    "import random as rdm\n",
    "import pandas as pd\n",
    "import matplotlib.pyplot as plt\n",
    "import seaborn as sns"
   ]
  },
  {
   "cell_type": "code",
   "execution_count": 3,
   "metadata": {},
   "outputs": [],
   "source": [
    "smart=False\n",
    "n_games=1000\n",
    "\n",
    "smart_list=[]\n",
    "fool_list=[]\n",
    "\n",
    "for k in range (2):\n",
    "    \n",
    "    # Set iterations\n",
    "    for j in range(n_games): \n",
    "\n",
    "        # Set randomly items in the doors\n",
    "\n",
    "        door_items=pd.DataFrame([rdm.random(),rdm.random(),rdm.random()],['Goat 1','Goat 2','Car'],['Values'])\n",
    "        door_items=door_items.sort_values(by=['Values'])\n",
    "\n",
    "        door=pd.DataFrame([door_items.index[0],door_items.index[1],door_items.index[2]],[1,2,3],['Item'])\n",
    "\n",
    "        #  ontestant choose a door\n",
    "\n",
    "        chosen_door=round(rdm.uniform(0.5, 3.4))\n",
    "\n",
    "        # Host open a door with one of the goats\n",
    "\n",
    "        if door['Item'][chosen_door] != ('Goat 1'):\n",
    "            door_open=door.index[door['Item']=='Goat 1']\n",
    "        elif door['Item'][chosen_door] != ('Goat 2'):\n",
    "                door_open=door.index[door['Item']=='Goat 2']\n",
    "\n",
    " \n",
    "        # Change you initial door?\n",
    "\n",
    "        # If change the door\n",
    "        if smart == True:\n",
    "\n",
    "            for i in range (len(door)):\n",
    "                if (i+1 != chosen_door) and (i+1 != door_open):\n",
    "                    chosen_door=i+1\n",
    "                    break\n",
    "            \n",
    "\n",
    "        # Time to open the door\n",
    "\n",
    "        # If have a lambo in the door!!!\n",
    "        if door['Item'][chosen_door] == ('Car'):\n",
    "            if smart==True:\n",
    "                smart_list.append('Car')\n",
    "            else:\n",
    "                fool_list.append('Car')\n",
    "\n",
    "        # If not :(    \n",
    "        else:\n",
    "            if smart==True:\n",
    "                smart_list.append('Goat')  \n",
    "            else:\n",
    "                fool_list.append('Goat')\n",
    "\n",
    "    # Now try with change the door                \n",
    "    smart=True"
   ]
  },
  {
   "cell_type": "code",
   "execution_count": 4,
   "metadata": {},
   "outputs": [
    {
     "data": {
      "text/html": [
       "<div>\n",
       "<style scoped>\n",
       "    .dataframe tbody tr th:only-of-type {\n",
       "        vertical-align: middle;\n",
       "    }\n",
       "\n",
       "    .dataframe tbody tr th {\n",
       "        vertical-align: top;\n",
       "    }\n",
       "\n",
       "    .dataframe thead th {\n",
       "        text-align: right;\n",
       "    }\n",
       "</style>\n",
       "<table border=\"1\" class=\"dataframe\">\n",
       "  <thead>\n",
       "    <tr style=\"text-align: right;\">\n",
       "      <th></th>\n",
       "      <th>Car</th>\n",
       "      <th>Iterations</th>\n",
       "    </tr>\n",
       "  </thead>\n",
       "  <tbody>\n",
       "    <tr>\n",
       "      <th>Changing the door</th>\n",
       "      <td>673</td>\n",
       "      <td>1000</td>\n",
       "    </tr>\n",
       "    <tr>\n",
       "      <th>Keep with the first door</th>\n",
       "      <td>307</td>\n",
       "      <td>1000</td>\n",
       "    </tr>\n",
       "  </tbody>\n",
       "</table>\n",
       "</div>"
      ],
      "text/plain": [
       "                          Car  Iterations\n",
       "Changing the door         673        1000\n",
       "Keep with the first door  307        1000"
      ]
     },
     "execution_count": 4,
     "metadata": {},
     "output_type": "execute_result"
    }
   ],
   "source": [
    "# Results\n",
    "\n",
    "data={'Car':[smart_list.count('Car'),fool_list.count('Car')],'Iterations':n_games}\n",
    "monty_hall_data=pd.DataFrame(data=data,index=['Changing the door','Keep with the first door'])\n",
    "monty_hall_data"
   ]
  },
  {
   "cell_type": "code",
   "execution_count": 5,
   "metadata": {},
   "outputs": [
    {
     "data": {
      "text/plain": [
       "<AxesSubplot:ylabel='Car'>"
      ]
     },
     "execution_count": 5,
     "metadata": {},
     "output_type": "execute_result"
    },
    {
     "data": {
      "image/png": "[encoded data removed]",
      "text/plain": [
       "<Figure size 504x432 with 1 Axes>"
      ]
     },
     "metadata": {
      "needs_background": "light"
     },
     "output_type": "display_data"
    }
   ],
   "source": [
    "# Graph\n",
    "\n",
    "plt.figure(figsize=(7,6))\n",
    "sns.barplot(x=monty_hall_data.index,y=monty_hall_data['Car'])"
   ]
  },
  {
   "cell_type": "markdown",
   "metadata": {},
   "source": [
    "# Analysis"
   ]
  },
  {
   "cell_type": "markdown",
   "metadata": {},
   "source": [
    "By means of a simple simulation we can see how changing doors considerably increases the chances of success, this at first glance does not seem very logical. It would seem that your chance is always 1/3, but this is true as long as the presenter doesn't open another door."
   ]
  },
  {
   "cell_type": "markdown",
   "metadata": {},
   "source": [
    "As you can see, at the beginning all the doors have a 1/3 chance of hiding a car, so it can be said that your selected door has a 1/3 chance of success and the other two share the remaining 2/3. The moment they open a door showing one of the goats, the unselected door absorbs 1/3 of the open door. So we have that your initial door has a 1/3 chance of success, while the other one has a 2/3 chance."
   ]
  },
  {
   "cell_type": "markdown",
   "metadata": {},
   "source": []
  }
 ],
 "metadata": {
  "colab": {
   "name": "Assignment 2.ipynb",
   "provenance": [],
   "version": "0.3.2"
  },
  "kernelspec": {
   "display_name": "Python 3 (ipykernel)",
   "language": "python",
   "name": "python3"
  },
  "language_info": {
   "codemirror_mode": {
    "name": "ipython",
    "version": 3
   },
   "file_extension": ".py",
   "mimetype": "text/x-python",
   "name": "python",
   "nbconvert_exporter": "python",
   "pygments_lexer": "ipython3",
   "version": "3.9.12"
  }
 },
 "nbformat": 4,
 "nbformat_minor": 1
}
